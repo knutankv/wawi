{
 "cells": [
  {
   "cell_type": "markdown",
   "id": "20d6c8f6",
   "metadata": {},
   "source": [
    "# Case study: 3km long floating bridge"
   ]
  },
  {
   "cell_type": "code",
   "execution_count": 1,
   "id": "e06905c4",
   "metadata": {},
   "outputs": [],
   "source": [
    "import matplotlib.pyplot as plt\n",
    "import numpy as np\n",
    "\n",
    "import pyvista as pv\n",
    "pv.set_jupyter_backend('trame')"
   ]
  },
  {
   "cell_type": "markdown",
   "id": "022416fe",
   "metadata": {},
   "source": [
    "## Create BEEF FE model"
   ]
  },
  {
   "cell_type": "code",
   "execution_count": 3,
   "id": "4bea306c",
   "metadata": {},
   "outputs": [
    {
     "data": {
      "image/png": "[encoded data removed]",
      "text/plain": [
       "<Figure size 640x480 with 1 Axes>"
      ]
     },
     "metadata": {},
     "output_type": "display_data"
    }
   ],
   "source": [
    "# Create BEEF model\n",
    "# BEEF and KNUTILS are both available openly on GitHub\n",
    "from beef import fe \n",
    "from beef.rotation import rodrot\n",
    "from knutils import geometry\n",
    "from beef.general import nodes_to_beam_element_matrix, blkdiag\n",
    "from wawi import model as wmodel\n",
    "\n",
    "span = 3000.0 # 3 km span\n",
    "radius = 4000.0\n",
    "n_pontoons = 25\n",
    "h_girder = 12\n",
    "\n",
    "angle_tot = geometry.arc_angle_from_length_and_radius(span, radius)\n",
    "angle_start = np.pi/2 + angle_tot/2\n",
    "angle_end = angle_start - angle_tot \n",
    "dangle = angle_tot/(n_pontoons+1)\n",
    "\n",
    "points_angles = [angle_start - i*dangle for i in range(n_pontoons+2)]\n",
    "\n",
    "x = np.cos(points_angles) * radius\n",
    "y = np.sin(points_angles) * radius - radius\n",
    "theta_pont = np.array(points_angles[1:-1])+np.pi/2\n",
    "\n",
    "plt.plot(x, y, '.')\n",
    "__ = plt.axis('equal')"
   ]
  },
  {
   "cell_type": "code",
   "execution_count": 5,
   "id": "0741ada1",
   "metadata": {},
   "outputs": [],
   "source": [
    "# Establish elements\n",
    "# Girder\n",
    "girder_node_set = 1000\n",
    "node_matrix_girder = np.vstack([girder_node_set+np.arange(1,len(x)+1), x, y, x*0+h_girder]).T\n",
    "el_matrix_girder = nodes_to_beam_element_matrix(node_matrix_girder[:,0], 1000)\n",
    "girder_xyz = node_matrix_girder[:,1:]\n",
    "\n",
    "# Columns\n",
    "column_el_set = 2000\n",
    "node_matrix_ponts = node_matrix_girder[1:-1, :]*1\n",
    "node_matrix_ponts[:, 0] = np.arange(1,len(node_matrix_ponts[:,0])+1, 1)\n",
    "node_matrix_ponts[:,-1] = node_matrix_ponts[:,-1]*0\n",
    "\n",
    "el_matrix_columns = np.vstack([[column_el_set+p, p, p+1+girder_node_set] for p in np.arange(1,n_pontoons+1)])\n",
    "\n",
    "node_matrix = np.vstack([node_matrix_ponts, node_matrix_girder])\n",
    "element_matrix = np.vstack([el_matrix_girder, el_matrix_columns])\n"
   ]
  },
  {
   "cell_type": "code",
   "execution_count": 7,
   "id": "0cd24b20",
   "metadata": {},
   "outputs": [],
   "source": [
    "# Define sections\n",
    "E = 210e9\n",
    "G = 0.5*E/(1+0.3)\n",
    "\n",
    "section_girder = fe.Section(E=E, A=1.4, J=8.4, I_y=3.5, I_z=80.8, m=17.5e3, poisson=0.3, e3=[0,0,1])\n",
    "section_columns = fe.Section(E=E, A=293.769e9/E, J=4.628e12/E, poisson=0.3, I_z=2.566e12/E, I_y=2.566e12/E, m=12.95e3)"
   ]
  },
  {
   "cell_type": "code",
   "execution_count": 9,
   "id": "0e71b4e8",
   "metadata": {},
   "outputs": [],
   "source": [
    "# Add CustomMatrix spring stiffnesses and mass to represent restoring stiffness of pontoons and structural mass\n",
    "# Stiffness\n",
    "Kz = 7458e3\n",
    "Krx = 1.466e9\n",
    "Kry = 33.98e6\n",
    "\n",
    "K = np.array([[0,0,0,0,0,0],\n",
    "              [0,0,0,0,0,0],\n",
    "              [0,0,Kz,0,0,0],\n",
    "              [0,0,0,Krx,0,0],\n",
    "              [0,0,0,0,Kry,0],\n",
    "              [0,0,0,0,0,0]])\n",
    "\n",
    "# Mass\n",
    "M0 = 1000e3\n",
    "Mxx = 240e6\n",
    "Myy = 31.36e6\n",
    "Mzz = 249.6e6\n",
    "M = np.array([[M0, 0,    0,   0,   0,    0],\n",
    "             [0,     M0,  0,  0,   0,   0],\n",
    "             [0,     0,   M0, 0,   0,   0],\n",
    "             [0,     0,    0, Mxx, 0,   0],\n",
    "             [0,     0,    0, 0, Myy,   0],\n",
    "             [0,     0,    0, 0, 0,   Mzz]])\n",
    "\n",
    "springs = []\n",
    "masses = []\n",
    "\n",
    "for p_ix, th in enumerate(theta_pont):\n",
    "    T = blkdiag(rodrot(th), 2)\n",
    "    springs.append(fe.CustomMatrix('k', p_ix+1, K, tmat = T, name=f'Stiffness P{p_ix+1}'))\n",
    "    masses.append(fe.CustomMatrix('m', p_ix+1, M, tmat = T, name=f'Mass P{p_ix+1}'))\n",
    "\n",
    "features = springs + masses"
   ]
  },
  {
   "cell_type": "code",
   "execution_count": 11,
   "id": "dbdd84e5",
   "metadata": {},
   "outputs": [],
   "source": [
    "# Create support constraints\n",
    "constraints = [fe.Constraint([int(node_matrix_girder[-1,0]), int(node_matrix_girder[0,0])], dofs='all')]"
   ]
  },
  {
   "cell_type": "code",
   "execution_count": 13,
   "id": "c6bb2cf0",
   "metadata": {},
   "outputs": [
    {
     "data": {
      "application/vnd.jupyter.widget-view+json": {
       "model_id": "c5fa29ea75324335b1711a519b519015",
       "version_major": 2,
       "version_minor": 0
      },
      "text/plain": [
       "Widget(value='<iframe src=\"http://localhost:60540/index.html?ui=P_0x1f8ca549af0_0&reconnect=auto\" class=\"pyvis…"
      ]
     },
     "metadata": {},
     "output_type": "display_data"
    },
    {
     "data": {
      "text/plain": [
       "<pyvista.plotting.plotter.Plotter at 0x1f8ca549af0>"
      ]
     },
     "execution_count": 13,
     "metadata": {},
     "output_type": "execute_result"
    }
   ],
   "source": [
    "part = fe.Part(node_matrix, element_matrix, sections=[section_girder]*el_matrix_girder.shape[0]+ \n",
    "                                                      [section_columns]*el_matrix_columns.shape[0],\n",
    "                  features=features, constraints=constraints)\n",
    "\n",
    "# Assign e2 for columns (different for each one)\n",
    "for ix,th in enumerate(theta_pont):\n",
    "    el = part.get_element(column_el_set + ix + 1)\n",
    "    el.assign_e2(np.array([np.sin(th), -np.cos(th), 0]))\n",
    "\n",
    "part.update_all_geometry()\n",
    "part.plot(tmat_on=['undeformed'])"
   ]
  },
  {
   "cell_type": "code",
   "execution_count": 15,
   "id": "da95be99",
   "metadata": {},
   "outputs": [
    {
     "data": {
      "application/vnd.jupyter.widget-view+json": {
       "model_id": "67c173f1494d43ecaed6e9289122921e",
       "version_major": 2,
       "version_minor": 0
      },
      "text/plain": [
       "Post processing:   0%|          | 0/299 [00:00<?, ?it/s]"
      ]
     },
     "metadata": {},
     "output_type": "display_data"
    }
   ],
   "source": [
    "# Create analysis object and run modal analysis\n",
    "analysis = fe.Analysis(part) \n",
    "lambd, phi = analysis.run_eig()\n",
    "phi_forces, forces_xyz = fe.Results.get_modal_forces(analysis, phi, elements=el_matrix_girder[:,0], \n",
    "                                                  return_pos=True) # establish phi forces\n",
    "k = np.diag(phi.T @ part.k @ phi)\n",
    "\n",
    "pontoon_dof_ix = part.get_global_dofs(node_matrix_ponts[:,0])\n",
    "phi_hydro = phi[pontoon_dof_ix, :]\n",
    "girder_dof_ixs = part.get_global_dofs(node_matrix_girder[:,0])\n",
    "phi_girder = phi[girder_dof_ixs, :]"
   ]
  },
  {
   "cell_type": "code",
   "execution_count": 17,
   "id": "fdbb94f1",
   "metadata": {},
   "outputs": [
    {
     "data": {
      "application/vnd.jupyter.widget-view+json": {
       "model_id": "49c615c7c4634915a500304b45cc1c37",
       "version_major": 2,
       "version_minor": 0
      },
      "text/plain": [
       "Widget(value='<iframe src=\"http://localhost:60540/index.html?ui=P_0x1f8d7d45d60_1&reconnect=auto\" class=\"pyvis…"
      ]
     },
     "metadata": {},
     "output_type": "display_data"
    },
    {
     "name": "stdout",
     "output_type": "stream",
     "text": [
      "T1 = 39.6 s\n"
     ]
    }
   ],
   "source": [
    "# Plot mode 1\n",
    "analysis.eldef.deform(phi[:,0]*300)\n",
    "analysis.eldef.plot(plot_states=['undeformed', 'deformed'])\n",
    "print(f'T1 = {2*np.pi/np.abs(lambd[0]):.1f} s')"
   ]
  },
  {
   "cell_type": "markdown",
   "id": "9716668f",
   "metadata": {},
   "source": [
    "## Create WAWI model"
   ]
  },
  {
   "cell_type": "code",
   "execution_count": 19,
   "id": "3cd7f3a2",
   "metadata": {},
   "outputs": [],
   "source": [
    "# Load pontoon type\n",
    "P = np.load('L53D53.npz')\n",
    "pontoon_type = wmodel.PontoonType.from_numeric(A=P['M'], B=P['C'], \n",
    "                         omega=P['omega'], Q=P['Q'], theta=P['theta_Q'], omegaQ=P['omega_Q'], label='Pontoon', \n",
    "                         stl_path='pontoon.stl')   \n",
    "\n",
    "# Create WAWI model\n",
    "pontoons = [wmodel.Pontoon(part.get_node(ix+1), pontoon_type, rotation=th, label=f'P{ix+1}') for ix, th in enumerate(theta_pont)]\n",
    "\n",
    "# Establish subobjects\n",
    "hydro = wmodel.Hydro(pontoons)\n",
    "modal_dry = wmodel.ModalDry(dict(full=phi, hydro=phi_hydro, girder=phi_girder, girder_forces=phi_forces), \n",
    "                            phi_x=dict(girder_forces=forces_xyz, girder=girder_xyz), omega_n=np.abs(lambd), m=None, k=k, xi0=0.3e-2)\n",
    "\n",
    "aero_section = wmodel.AeroSection(D=4.5, B=25.0, Cd=0.68, dCd=-1.0, Cl=-0.39, dCl=4.0, Cm=-0.07, dCm=1.0)\n",
    "windstate = wmodel.Windstate(28.5, 270, Iu=0.136, Iw=0.072, Au=6.8, Aw=9.4, Cuy=10.0, Cwy=6.5, Lux=115, Lwx=9.58)\n",
    "aero = wmodel.Aero(sections=dict(girder=aero_section), \n",
    "                   element_assignments=dict(girder=el_matrix_girder[:,0]), windstate=windstate)\n",
    "\n",
    "# Place in model object and connect to beef eldef\n",
    "model = wmodel.Model(eldef=part, hydro=hydro, aero=aero, modal_dry=modal_dry)\n",
    "model.n_modes = 100\n",
    "model.connect_eldef()"
   ]
  },
  {
   "cell_type": "code",
   "execution_count": 21,
   "id": "ab687acb-d48a-4fee-b3dc-5cd9d2e1849f",
   "metadata": {},
   "outputs": [],
   "source": [
    "pontoons_dict= dict()\n",
    "for pontoon in pontoons:\n",
    "    pontoons_dict[pontoon.label] = dict(coordinates=list(pontoon.node.coordinates), pontoon_type='ptype_1',\n",
    "                                           rotation=pontoon.rotation, node=pontoon.node.label)"
   ]
  },
  {
   "cell_type": "code",
   "execution_count": 23,
   "id": "2f2b98f3-297d-4b2c-b226-dd30271edaef",
   "metadata": {},
   "outputs": [],
   "source": [
    "import json\n",
    "with open('pontoon_out.json', 'w') as f:\n",
    "    json.dump(pontoons_dict, f, indent=2)"
   ]
  },
  {
   "cell_type": "code",
   "execution_count": 27,
   "id": "e4749bba-daa4-4180-bb2a-e9af30a9d13e",
   "metadata": {},
   "outputs": [],
   "source": [
    "def tl(arr):\n",
    "    lo = list(arr)\n",
    "    for ix,li in enumerate(lo):\n",
    "        lo[ix] = list(li)\n",
    "\n",
    "    return lo\n",
    "\n",
    "modal_dict = dict(phi=dict(full=tl(phi), hydro=tl(phi_hydro), girder=tl(phi_girder), girder_forces=tl(phi_forces)),\n",
    "                  phi_x=dict(girder_forces=tl(forces_xyz), girder=tl(girder_xyz)),\n",
    "                   xi0=0.3e-2, m=list(modal_dry.m), k=list(modal_dry.k), local=False,\n",
    "                  m_min=0.0)\n",
    "with open('modal_out.json', 'w') as f:\n",
    "    json.dump(modal_dict, f, indent=2)          "
   ]
  },
  {
   "cell_type": "code",
   "execution_count": 29,
   "id": "ceeef496",
   "metadata": {},
   "outputs": [],
   "source": [
    "pl = model.plot_mode(0, use_dry=True, show=False, title='', plot_water=True)\n",
    "pl.reset_camera()\n",
    "pl.camera.azimuth = 0\n",
    "pl.camera.elevation = -10  \n",
    "pl.camera.zoom(4.7)\n",
    "\n",
    "from wawi.plot import save_plot\n",
    "save_plot(pl, 'test.png', w=2000*1.5, h=1300*1.5)"
   ]
  },
  {
   "cell_type": "markdown",
   "id": "1479c8ef",
   "metadata": {},
   "source": [
    "## Export WAWI model"
   ]
  },
  {
   "cell_type": "code",
   "execution_count": 31,
   "id": "2dc7df31",
   "metadata": {},
   "outputs": [],
   "source": [
    "model.to_wwi('model_curved.wwi')"
   ]
  }
 ],
 "metadata": {
  "kernelspec": {
   "display_name": "Python 3 (ipykernel)",
   "language": "python",
   "name": "python3"
  },
  "language_info": {
   "codemirror_mode": {
    "name": "ipython",
    "version": 3
   },
   "file_extension": ".py",
   "mimetype": "text/x-python",
   "name": "python",
   "nbconvert_exporter": "python",
   "pygments_lexer": "ipython3",
   "version": "3.12.4"
  }
 },
 "nbformat": 4,
 "nbformat_minor": 5
}
