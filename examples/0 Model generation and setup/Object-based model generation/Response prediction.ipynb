{
 "cells": [
  {
   "cell_type": "markdown",
   "id": "20d6c8f6",
   "metadata": {},
   "source": [
    "# Case study: 3km long floating bridge, steps 1-3 | response prediction"
   ]
  },
  {
   "cell_type": "code",
   "execution_count": 1,
   "id": "e06905c4",
   "metadata": {},
   "outputs": [],
   "source": [
    "import matplotlib.pyplot as plt\n",
    "import numpy as np\n",
    "from wawi.model import Model\n",
    "from wawi.modal import maxreal"
   ]
  },
  {
   "cell_type": "code",
   "execution_count": 2,
   "id": "b5fc952a",
   "metadata": {
    "scrolled": false
   },
   "outputs": [
    {
     "name": "stdout",
     "output_type": "stream",
     "text": [
      "WAWI WindState \n",
      "--------------\n",
      "U=28.5m/s, direction=90.0deg\n",
      "A=[6.80, 0.00, 9.40]\n",
      "I=[0.14, 0.00, 0.07]\n",
      "Cux, Cvx, Cwx = [0.0, 0.0, 0.0]\n",
      "Cuy, Cvy, Cwy = [10.0, 0.0, 6.5]\n",
      "Cuz, Cvz, Cwz = [0.0, 0.0, 0.0]\n",
      "Lx = [115.00, 0.00, 9.58]\n",
      "\n"
     ]
    },
    {
     "data": {
      "application/vnd.jupyter.widget-view+json": {
       "model_id": "85128fa70a624552b637d20087d50724",
       "version_major": 2,
       "version_minor": 0
      },
      "text/plain": [
       "Widget(value='<iframe src=\"http://localhost:58626/index.html?ui=P_0x16ca968c7c0_0&reconnect=auto\" class=\"pyvis…"
      ]
     },
     "metadata": {},
     "output_type": "display_data"
    }
   ],
   "source": [
    "# Import model\n",
    "model = Model.from_wwi('model_curved.wwi')\n",
    "model.n_modes = 50\n",
    "model.aero.windstate.direction = 90\n",
    "\n",
    "print(model.aero.windstate)\n",
    "model.plot(tmat_on=['undeformed'], node_labels=True)\n",
    "\n",
    "omega = np.arange(0.001, 2, 0.0005)\n",
    "omega_aero = np.arange(0.001, 2, 0.02)"
   ]
  },
  {
   "cell_type": "markdown",
   "id": "1479c8ef",
   "metadata": {},
   "source": [
    "## Modal analysis"
   ]
  },
  {
   "cell_type": "code",
   "execution_count": 3,
   "id": "e8a218ce",
   "metadata": {},
   "outputs": [
    {
     "name": "stdout",
     "output_type": "stream",
     "text": [
      "[ >>>>>>>>>>>>>>>>>>>> ] 101% finished with iterative modal analysis. \n"
     ]
    }
   ],
   "source": [
    "model.aero.prepare_aero_matrices(omega=omega_aero, aero_sections=['girder'])\n",
    "model.run_eig(include=['hydro', 'aero'])"
   ]
  },
  {
   "cell_type": "code",
   "execution_count": 4,
   "id": "f802dd53",
   "metadata": {},
   "outputs": [
    {
     "data": {
      "application/vnd.jupyter.widget-view+json": {
       "model_id": "8eeb279e682f408eb77c5c93455c25b1",
       "version_major": 2,
       "version_minor": 0
      },
      "text/plain": [
       "Widget(value='<iframe src=\"http://localhost:58626/index.html?ui=P_0x16cb107feb0_1&reconnect=auto\" class=\"pyvis…"
      ]
     },
     "metadata": {},
     "output_type": "display_data"
    },
    {
     "name": "stdout",
     "output_type": "stream",
     "text": [
      "T1 = 43.4 s\n",
      "xi_1 = 1.3%\n"
     ]
    }
   ],
   "source": [
    "mode_ix = 0\n",
    "model.plot_mode(mode_ix, use_dry=False)\n",
    "print(f'T1 = {model.results.Tn[mode_ix]:.1f} s')\n",
    "print(f'xi_1 = {model.results.xi[mode_ix]*100:.1f}%')"
   ]
  },
  {
   "cell_type": "markdown",
   "id": "12df3ad8",
   "metadata": {},
   "source": [
    "## Response prediction"
   ]
  },
  {
   "cell_type": "code",
   "execution_count": null,
   "id": "639a2313",
   "metadata": {},
   "outputs": [],
   "source": [
    "model.aero.prepare_aero_matrices(omega_aero, aero_sections=['girder'])\n",
    "model.precompute_windaction(omega_aero, print_progress=False, aero_sections=['girder'], merge_sections=False)\n",
    "model.run_freqsim(omega)\n",
    "\n",
    "resp_wawi = model.get_result_expmax(3600, key='girder_forces')"
   ]
  },
  {
   "cell_type": "markdown",
   "id": "f929277b",
   "metadata": {},
   "source": [
    "## Plot expected maximum"
   ]
  },
  {
   "cell_type": "code",
   "execution_count": null,
   "id": "04eef4ea",
   "metadata": {},
   "outputs": [],
   "source": [
    "legend_ax = []\n",
    "comps = {'$M_z$ [MNm]':5}\n",
    "arclength_girder_force = model.modal_dry.phi_x['girder_forces'][:, 0]\n",
    "\n",
    "fig,ax = plt.subplots(nrows=len(comps), sharex=True, figsize=[12,7])\n",
    "if np.ndim(ax)==0:\n",
    "    ax = [ax]\n",
    "\n",
    "for ix, comp in enumerate(comps):\n",
    "    comp_ix = comps[comp]\n",
    "    ax[ix].set_ylabel(comp)\n",
    "    ax[ix].plot(arclength_girder_force,resp_wawi[comp_ix::6]/1e6, color='black', linestyle='--', alpha=0.5, label='Multimodal')\n",
    "    ax[ix].set_ylim(bottom=0)\n",
    "    \n",
    "ax[-1].set_xlabel('x [m]')\n",
    "# ax[-1].set_xlim(left=0)\n",
    "ax[0].legend(frameon=False, loc='upper center', ncol=2)"
   ]
  }
 ],
 "metadata": {
  "kernelspec": {
   "display_name": "Python 3 (ipykernel)",
   "language": "python",
   "name": "python3"
  },
  "language_info": {
   "codemirror_mode": {
    "name": "ipython",
    "version": 3
   },
   "file_extension": ".py",
   "mimetype": "text/x-python",
   "name": "python",
   "nbconvert_exporter": "python",
   "pygments_lexer": "ipython3",
   "version": "3.10.9"
  }
 },
 "nbformat": 4,
 "nbformat_minor": 5
}
