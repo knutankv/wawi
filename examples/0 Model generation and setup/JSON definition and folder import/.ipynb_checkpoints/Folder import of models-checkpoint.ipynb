{
 "cells": [
  {
   "cell_type": "markdown",
   "id": "fc9a5573-60f9-4fb1-9c26-c606ffc41246",
   "metadata": {},
   "source": [
    "# JSON model definition and folder import\r\n",
    "Often, it is more convenient to define all (or many) of the model parameters in input files rather than in scripts. To simplify this process, a support function `wawi.io.import_folder` is provided in WAWI.\r\n",
    "\r\n",
    "This imports all files in the specified folder. The file names of the relevant files in the provided path are defined as inputs to the function (default values in parentheses): \r\n",
    "\r\n",
    "- pontoon_stl ('pontoon.stl')\r\n",
    "- aero_sections ('aero_sections.json')\r\n",
    "- modal ('modal.json')\r\n",
    "-  pontoon('pontoon.json')\r\n",
    "- eldef ('element.json')\r\n",
    "- orientations ('orientations.json')\r\n",
    "- drag_elements ('drag_elements.json')\r\n",
    "- pontoon_types ('pontoon_tbe defined.'):"
   ]
  },
  {
   "cell_type": "markdown",
   "id": "a83739e6-46b9-4891-8b47-232d08952bf8",
   "metadata": {},
   "source": [
    "## Modal definition (modal)\n",
    "\n",
    "## Pontoon and pontoon types (pontoon, pontoon_types, pontoon_stl)\n",
    "\n",
    "## Element definition (eldef, orientations)\n",
    "\n",
    "## Aerodynamic sections (aero_sections)\n",
    "\n",
    "## Drag elements (drag_elements)"
   ]
  },
  {
   "cell_type": "markdown",
   "id": "087e92bd-ee1d-42fb-91c9-20e26c80caf0",
   "metadata": {},
   "source": [
    "## Example import\n",
    "The folder ./model/ contains the following files:\n",
    "\n",
    "![](files.png \"Files\")\n",
    "\n",
    "Note that these are named as the default values of all the relevant inputs, so they are therefore not defined below. The following code snippet imports the folder and returns a WAWI `Model`-object."
   ]
  },
  {
   "cell_type": "code",
   "execution_count": 13,
   "id": "70a4fc34-df3b-44a4-b35f-27ed60bb4d72",
   "metadata": {},
   "outputs": [],
   "source": [
    "import wawi\n",
    "from wawi.io import import_folder\n",
    "\n",
    "model = import_folder('./model/', sort_nodes_by_x=True)"
   ]
  },
  {
   "cell_type": "markdown",
   "id": "95e186f2-7910-42c7-93d1-610868b88e3e",
   "metadata": {},
   "source": [
    "This model contains a curved floating bridge with columns. No sections in the `element.json` file matches the section definitions in the `drag_elements.json` file, so no drag elements are used (the file is still provided to indicate how it can be defined)."
   ]
  },
  {
   "cell_type": "code",
   "execution_count": 3,
   "id": "188cfd4b-6384-441b-8cbd-4a209a287de0",
   "metadata": {},
   "outputs": [
    {
     "data": {
      "application/vnd.jupyter.widget-view+json": {
       "model_id": "99445bd1fcf04cfb810dcadbe6edb999",
       "version_major": 2,
       "version_minor": 0
      },
      "text/plain": [
       "Widget(value='<iframe src=\"http://localhost:56527/index.html?ui=P_0x1950f07c2f0_0&reconnect=auto\" class=\"pyvis…"
      ]
     },
     "metadata": {},
     "output_type": "display_data"
    },
    {
     "data": {
      "text/plain": [
       "<pyvista.plotting.plotter.Plotter at 0x1950f07c2f0>"
      ]
     },
     "execution_count": 3,
     "metadata": {},
     "output_type": "execute_result"
    }
   ],
   "source": [
    "model.plot(tmat_on=['undeformed'])"
   ]
  },
  {
   "cell_type": "code",
   "execution_count": 19,
   "id": "19e64314-7f7c-4a30-bff3-e9fa99ec3e0e",
   "metadata": {},
   "outputs": [
    {
     "data": {
      "application/vnd.jupyter.widget-view+json": {
       "model_id": "a1c87d66c046493a9a481a3782116eae",
       "version_major": 2,
       "version_minor": 0
      },
      "text/plain": [
       "Widget(value='<iframe src=\"http://localhost:56527/index.html?ui=P_0x19523d5ca70_2&reconnect=auto\" class=\"pyvis…"
      ]
     },
     "metadata": {},
     "output_type": "display_data"
    },
    {
     "data": {
      "text/plain": [
       "<pyvista.plotting.plotter.Plotter at 0x19523d5ca70>"
      ]
     },
     "execution_count": 19,
     "metadata": {},
     "output_type": "execute_result"
    }
   ],
   "source": [
    "# Plot dry mode with index 1\n",
    "model.plot_mode(1, use_dry=True)"
   ]
  }
 ],
 "metadata": {
  "kernelspec": {
   "display_name": "Python 3 (ipykernel)",
   "language": "python",
   "name": "python3"
  },
  "language_info": {
   "codemirror_mode": {
    "name": "ipython",
    "version": 3
   },
   "file_extension": ".py",
   "mimetype": "text/x-python",
   "name": "python",
   "nbconvert_exporter": "python",
   "pygments_lexer": "ipython3",
   "version": "3.12.4"
  }
 },
 "nbformat": 4,
 "nbformat_minor": 5
}
