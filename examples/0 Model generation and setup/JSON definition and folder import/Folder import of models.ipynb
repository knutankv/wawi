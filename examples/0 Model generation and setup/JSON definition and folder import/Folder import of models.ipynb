{
 "cells": [
  {
   "cell_type": "markdown",
   "id": "fc9a5573-60f9-4fb1-9c26-c606ffc41246",
   "metadata": {},
   "source": [
    "# JSON model definition and folder import\n",
    "Often, it is more convenient to define all (or many) of the model parameters in input files rather than in scripts. To simplify this process, a support function `wawi.io.import_folder` is provided in WAWI.\n",
    "\n",
    "This imports all files in the specified folder. The file names of the relevant files in the provided path are defined as inputs to the function (default values in parentheses): \n",
    "\n",
    "- modal ('modal.json')\n",
    "- pontoon('pontoon.json')\n",
    "- pontoon_types ('pontoon_types.json')\n",
    "- pontoon_stl ('pontoon.stl')\n",
    "- eldef ('element.json')\n",
    "- aero_sections ('aero_sections.json')\n",
    "- orientations ('orientations.json')\n",
    "- drag_elements ('drag_elements.json')\n"
   ]
  },
  {
   "cell_type": "markdown",
   "id": "a83739e6-46b9-4891-8b47-232d08952bf8",
   "metadata": {},
   "source": [
    "## Modal definition (modal)\n",
    "The first file, 'modal.json', defines the dry modes of the structure under consideration. It includes the following fiels\n",
    "\n",
    "```json\n",
    "{\n",
    "  \"local\": false,\n",
    "  \"phi\": {\n",
    "    \"full\": [[...]],\n",
    "    \"hydro\": [[...]],\n",
    "    \"girder\": [[...]],\n",
    "    \"girder_forces\": [[...]]\n",
    "    },\n",
    "\n",
    "\"m\": [...],\n",
    "\"omega_n\": [...]\n",
    "\n",
    "```\n",
    "\n",
    "The `local` parameter defines if the modal transformation matrices (mode shapes) are given in local or global coordinate system. Typically, a global system is more convenient, but both types should work fine in WAWI. The `phi` parameter gives a dictionary defining collections of mode shapes (or modal transformation matrices). The values should be list of lists (inner list is a row) describing the modal transformation matrix of a given key. The matrices have dimensions dofs-by-modes. The keys 'full' and 'hydro' are defaults in WAWI for the full model (used for plotting and convenient for aerodynamic analysis) and pontoon loading, respectively (they can be modified, but sticking with the defaults is a good choice). Furthermore, at least two of the following modal parameters must be given: `m` (modal mass) and `omega_n` (undamped natural frequencies in rad/s) or `m` and `k` (modal stiffness). All of these are 1d lists with length matching the number of columns in all entries in `phi`.\n",
    "\n",
    "## Pontoon and pontoon types (pontoon, pontoon_types, pontoon_stl)\n",
    "All pontoon-related definitions are given by the files `pontoon.json`, `pontoon_types.json` and `pontoon.stl`. \n",
    "\n",
    "Firstly, `pontoon.json` defines pontoon coordinates, orientations and pontoon type definition, as follows:\n",
    "\n",
    "```json\n",
    "{\n",
    "  \"P1\": {\n",
    "    \"coordinates\": [\n",
    "      0.0,\n",
    "      0.0|,\n",
    "      0.0\n",
    "    ],\n",
    "    \"pontoon_type\": \"ptype_1\",\n",
    "    \"rotation\": 0,\n",
    "    \"node\": 1\n",
    "  },\n",
    "  \"P2\": {\n",
    "    \"coordinates\": [\n",
    "      100.0,\n",
    "      0.0,\n",
    "      0.0\n",
    "    ],\n",
    "    \"pontoon_type\": \"ptype_1\",\n",
    "    \"rotation\": 12.5,\n",
    "    \"node\": 2\n",
    "  }\n",
    "}\n",
    "\n",
    "```\n",
    "\n",
    "This defines two pontoons (named P1 and P2), places them at coordinates (0,0,0) and (100.0, 0, 0) with orientation (0 deg and 12.5 deg), assigns pontoon type from files \"ptype_1.npz\". Also, the `node` parameter connects the pontoons to nodes 1 and 2, which should be present in the node matrix of the full system (see `node_matrix` in `element.json`). When a pontoon is connected to a node, the pontoon is automatically plotted together with the elements when using the plotting methods of the model (both rotation and location of the node is used). Also, the coordinates of the pontoon is overwritten by the coordinates of the node. Only the x and y coordinates of the pontoon matters for the computation, as the resulting wave excitation from irregular wave fields is dependent on the horizontal coordinates. The pontoon type definition is an npz-file containing the following numpy nd arrays:\n",
    "\n",
    "* Added mass: 'M' (6 x 6 x len(omega))\n",
    "* Radiation/added damping: 'C' (6 x 6 x len(omega))\n",
    "* Linear hydrodynamic transfer function matrix: 'Q' (6 x len(theta_Q) x len(omega_Q))\n",
    "* omega (for mass and damping): 'omega' \n",
    "* theta for transfer: 'theta_Q'\n",
    "* omega for transfer: 'omega_Q'\n",
    "\n",
    "Second, the file `pontoon_types.json` is usually not needed. It is merely added to enable adding additional properties to the pontoon types, not present in the npz-files. Currently, this is limited to drag coefficients and drag areas for inclusion of linearized drag effects (stochastic linearization). It could look something like this (drag terms ordered as relevant to x, y and z-directions, respectively):\n",
    "\n",
    "```json\n",
    "{\n",
    "    \"ptype_1\": {\n",
    "        \"Cd\": [1.0, 1.0, 2.0],\n",
    "        \"area\": [1.0, 2.0, 2.0]\n",
    "    },\n",
    "\n",
    "    \"ptype_2\": {\n",
    "        \"Cd\": [0.5, 0.4, 0.8],\n",
    "        \"area\": [1.0, 2.0, 2.0]\n",
    "    }\n",
    "}\n",
    "\n",
    "```\n",
    "\n",
    "If instead a wildcard name is used, these properties are used for all pontoons:\n",
    "\n",
    "```json\n",
    "{\n",
    "    \"*\": {\n",
    "        \"Cd\": [1.0, 1.0, 2.0],\n",
    "        \"area\": [1.0, 2.0, 2.0]\n",
    "    }\n",
    "}\n",
    "\n",
    "```\n",
    "\n",
    "Finally, the `pontoon.stl` file is simply a step file containing the mesh used to visualize pontoons together with the elements in the plotting methods.\n",
    "\n",
    "\n",
    "## Element definition (eldef)\n",
    "The file `element.json` defines the elements of the model (for aerodynamic analysis and plotting). It must contain the keys 'element_matrix' and 'node_matrix', and can also contain the fields 'sections' and 'section_assignments'. The two first are list of lists where the innermost lists are rows. These follow the typical convention in input files; rows of the node matrix consist of node label, x-coordinate, y-coordinate and z-coordinate, whereas the rows of the element matrix consist of the element label, label of the first node and label of the second node.\n",
    "\n",
    "The two latter properties of the files are not used inside WAWI directly (unless using drag elements, see below), but are used for the definition of the elements in the BEEF environmen. It can therefore be useful for if the user for instance wants to calculate the stresses in an element, as all relevant properties are present inside the `eldef` attribute of the `model` object. The `sections` property is assumed self-explanatory from the json example provided. The `section_assignment` property is built up with a list of strings where each entry corresponds to the same-index row of the element matrix.\n",
    "\n",
    "```json\n",
    "{\n",
    "    \"element_matrix\": [[...]],\n",
    "    \"node_matrix\":[[...]],\n",
    "\n",
    "    \"sections\": \n",
    "    {\n",
    "        \"girder\":\n",
    "            {\"E\": 210000000000.0, \n",
    "            \"Iz\": 0.09285714285714286, \n",
    "            \"Iy\": 0.09285714285714286, \n",
    "            \"A\": 0.0052928571428571426, \n",
    "            \"poisson\": 0.3, \n",
    "            \"J\": 0.10714285714285714, \n",
    "            \"m\": 45.6272019496974},\n",
    "\n",
    "        \"column\":\n",
    "            {\"E\": 210000000000.0, \n",
    "            \"Iz\": 0.09285714285714286, \n",
    "            \"Iy\": 0.09285714285714286, \n",
    "            \"A\": 0.0052928571428571426, \n",
    "            \"poisson\": 0.3, \n",
    "            \"J\": 0.10714285714285714, \n",
    "            \"m\": 45.6272019496974}\n",
    "    },\n",
    "\n",
    "    \"section_assignments\": [\"girder\", \"girder\", \"girder\", \"column\", \"column\"]\n",
    "}\n",
    "\n",
    "```\n",
    "\n",
    "## Aerodynamic sections (aero_sections, orientations)\n",
    "Aerodynamic sections relate aerodynamic properties to the elements defined in the section above. Two definitions are required, and are given in the files\n",
    "`aero_sections.json` and `orientations.json`.\n",
    "\n",
    "First, the aerodynamic sections are defined in the `aero_sections.json`-file, as follows:\n",
    "\n",
    "```json\n",
    "{\n",
    "    \"girder\":\n",
    "        {\n",
    "            \"B\":26.8,\n",
    "            \"D\":3.715,\n",
    "\n",
    "            \"Cd\":0.679,\n",
    "            \"dCd\":-1.022,\n",
    "            \"Cl\":-0.3896,\n",
    "            \"dCl\":4.0116,\n",
    "            \"Cm\":-0.0700,\n",
    "            \"dCm\":1.0122,\n",
    "\n",
    "            \"elements\": [1000, 1001, 1002, 1003, ...]\n",
    "        },\n",
    "\n",
    "    \"column\":\n",
    "    {\n",
    "        \"B\":3,\n",
    "        \"D\":3,\n",
    "\n",
    "        \"Cd\":0.679,\n",
    "        \"dCd\":-1.022,\n",
    "        \"Cl\":-0.3896,\n",
    "        \"dCl\":4.0116,\n",
    "        \"Cm\":-0.0700,\n",
    "        \"dCm\":1.0122,\n",
    "\n",
    "        \"elements\": [2001, 2002, 2003, 2004, 2005, ...]\n",
    "    }\n",
    "}\n",
    "```\n",
    "\n",
    "Here, two aerodynamic sections are defined. This includes definitions of width (B), height (D), static wind coefficients (Cd, dCd, Cl, dCl, Cm, and dCm - see `wawi.model.aero.AeroSection` for details on this) and a list of elements to apply the sections to.\n",
    "\n",
    "For aerodynamic analysis, the orientations of the elements are crucial. These are defined in the second file (`orientations.json`). The following structure is used for this:\n",
    "\n",
    "```json\n",
    "{\n",
    "    \"girder\": {\n",
    "        \"e3\": [0,0,1],\n",
    "        \"elements\": [1000, 1001, 1002, 1003, ...]\n",
    "        \n",
    "    },\n",
    "    \"column\": {\n",
    "        \"e2\": [0,1,0],\n",
    "        \"elements\": [2001, 2002, 2003, 2004, 2005, ...]\n",
    "    }\n",
    "}\n",
    "\n",
    "    \n",
    "```\n",
    "\n",
    "In the above snippet, two definitions of orientations are given. Note that the keys here are not used for anything (and are not related to the `aero_sections.json` keys); they are merely included to make it convenient for the user to maintain a structured model setup. The orientation is given by either `e2` or `e3`, indicating if the y/drag or z/lift of the element is defined. Note also that these definitions are assumed approximate; the procedure inside WAWI consists of taking a cross product between the supplied unit vector and the axial direction of the element, which gives a proper perpendicular vector. The last perpendicular vector is thereafter based on a secondary cross product between the calculated perpendicular unit vector and the longitudinal vector. Finally, a list of elements to assign the orientation to is provided. The resulting orientation is conveniently plotted in the model using `model.plot(tmat_on=['undeformed'], tmat_scaling=100)` (adjust `scaling` to make sense for your problem).\n",
    "\n",
    "## Drag elements (drag_elements)\n",
    "To accomodate the possibility for floating bridges to have mooring lines with significant quadratic drag damping, an additional file for defining these properties is supported. Note that this, as for the drag of the pontoons, is only solved in a linearized sense using (approximate) stochastic linearization techniques. The `drag_elements.json` file is defined as follows:\n",
    "\n",
    "```json\n",
    "{\n",
    "    \"mooring_wire\":\n",
    "        {   \"sections\": \"MooringWire\",\n",
    "            \"zrange\": [-1e4, 0.0],\n",
    "            \"rho\": 1025.0,\n",
    "            \"Cd\": [0.1, 1.2, 1.2],\n",
    "            \"D\": 0.146}\n",
    "}\n",
    "```\n",
    "\n",
    "For the drag element group named \"mooring_wire\" above, all elements present in the elements assigned with the relevant section assignment(s) in `element.json` (either list of several strings or single string defined with property `sections`) and that have a z-coordinate inside the provided `zrange` will be given quadratic drag damping according to the specified density (`rho`), drag coefficients in local x, y and z-direction (`Cd`) and diameter (`D`)."
   ]
  },
  {
   "cell_type": "markdown",
   "id": "087e92bd-ee1d-42fb-91c9-20e26c80caf0",
   "metadata": {},
   "source": [
    "## Example import\n",
    "The folder ./model/ contains the following files:\n",
    "\n",
    "![](files.png \"Files\")\n",
    "\n",
    "Note that these are named as the default values of all the relevant inputs, so they are therefore not defined below. The following code snippet imports the folder and returns a WAWI `Model`-object."
   ]
  },
  {
   "cell_type": "code",
   "execution_count": 1,
   "id": "70a4fc34-df3b-44a4-b35f-27ed60bb4d72",
   "metadata": {},
   "outputs": [],
   "source": [
    "from wawi.io import import_folder\n",
    "model = import_folder('./model/', sort_nodes_by_x=True)"
   ]
  },
  {
   "cell_type": "markdown",
   "id": "95e186f2-7910-42c7-93d1-610868b88e3e",
   "metadata": {},
   "source": [
    "This model contains a curved floating bridge with columns. No sections in the `element.json` file matches the section definitions in the `drag_elements.json` file, so no drag elements are used (the file is still provided to indicate how it can be defined)."
   ]
  },
  {
   "cell_type": "code",
   "execution_count": 2,
   "id": "188cfd4b-6384-441b-8cbd-4a209a287de0",
   "metadata": {},
   "outputs": [
    {
     "data": {
      "application/vnd.jupyter.widget-view+json": {
       "model_id": "5bd565a9dd604d7caf0638904fbc29df",
       "version_major": 2,
       "version_minor": 0
      },
      "text/plain": [
       "Widget(value='<iframe src=\"http://localhost:60141/index.html?ui=P_0x266c4e64ec0_0&reconnect=auto\" class=\"pyvis…"
      ]
     },
     "metadata": {},
     "output_type": "display_data"
    },
    {
     "data": {
      "text/plain": [
       "<pyvista.plotting.plotter.Plotter at 0x266c4e64ec0>"
      ]
     },
     "execution_count": 2,
     "metadata": {},
     "output_type": "execute_result"
    }
   ],
   "source": [
    "model.plot(tmat_on=['undeformed'])"
   ]
  },
  {
   "cell_type": "code",
   "execution_count": 3,
   "id": "19e64314-7f7c-4a30-bff3-e9fa99ec3e0e",
   "metadata": {},
   "outputs": [
    {
     "data": {
      "application/vnd.jupyter.widget-view+json": {
       "model_id": "c3b207d47ca14975bc4ae83c9d460f0a",
       "version_major": 2,
       "version_minor": 0
      },
      "text/plain": [
       "Widget(value='<iframe src=\"http://localhost:60141/index.html?ui=P_0x266c91b5a90_1&reconnect=auto\" class=\"pyvis…"
      ]
     },
     "metadata": {},
     "output_type": "display_data"
    },
    {
     "data": {
      "text/plain": [
       "<pyvista.plotting.plotter.Plotter at 0x266c91b5a90>"
      ]
     },
     "execution_count": 3,
     "metadata": {},
     "output_type": "execute_result"
    }
   ],
   "source": [
    "# Plot dry mode with index 1\n",
    "model.plot_mode(1, use_dry=True)"
   ]
  }
 ],
 "metadata": {
  "kernelspec": {
   "display_name": "Python 3",
   "language": "python",
   "name": "python3"
  },
  "language_info": {
   "codemirror_mode": {
    "name": "ipython",
    "version": 3
   },
   "file_extension": ".py",
   "mimetype": "text/x-python",
   "name": "python",
   "nbconvert_exporter": "python",
   "pygments_lexer": "ipython3",
   "version": "3.13.2"
  },
  "widgets": {
   "application/vnd.jupyter.widget-state+json": {
    "state": {},
    "version_major": 2,
    "version_minor": 0
   }
  }
 },
 "nbformat": 4,
 "nbformat_minor": 5
}
