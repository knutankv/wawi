{
 "cells": [
  {
   "cell_type": "markdown",
   "id": "fc9a5573-60f9-4fb1-9c26-c606ffc41246",
   "metadata": {},
   "source": [
    "# JSON model definition and folder import\r\n",
    "Often, it is more convenient to define all (or many) of the model parameters in input files rather than in scripts. To simplify this process, a support function `wawi.io.import_folder` is provided in WAWI.\r\n",
    "\r\n",
    "This imports all files in the specified folder. The file names of the relevant files in the provided path are defined as inputs to the function (default values in parentheses): \r\n",
    "\r\n",
    "- pontoon_stl ('pontoon.stl')\r\n",
    "- aero_sections ('aero_sections.json')\r\n",
    "- modal ('modal.json')\r\n",
    "-  pontoon('pontoon.json')\r\n",
    "- eldef ('element.json')\r\n",
    "- orientations ('orientations.json')\r\n",
    "- drag_elements ('drag_elements.json')\r\n",
    "- pontoon_types ('pontoon_tbe defined.'):"
   ]
  },
  {
   "cell_type": "markdown",
   "id": "a83739e6-46b9-4891-8b47-232d08952bf8",
   "metadata": {},
   "source": [
    "## Modal definition (modal)\n",
    "\n",
    "## Pontoon and pontoon types (pontoon, pontoon_types, pontoon_stl)\n",
    "\n",
    "## Element definition (eldef, orientations)\n",
    "\n",
    "## Aerodynamic sections (aero_sections)\n",
    "\n",
    "## Drag elements (drag_elements)"
   ]
  },
  {
   "cell_type": "markdown",
   "id": "087e92bd-ee1d-42fb-91c9-20e26c80caf0",
   "metadata": {},
   "source": [
    "## Example import\n",
    "The folder ./model/ contains the following files:\n",
    "\n",
    "![](files.png \"Files\")\n",
    "\n",
    "Note that these are named as the default values of all the relevant inputs, so they are therefore not defined below. The following code snippet imports the folder and returns a WAWI `Model`-object."
   ]
  },
  {
   "cell_type": "code",
   "execution_count": 1,
   "id": "70a4fc34-df3b-44a4-b35f-27ed60bb4d72",
   "metadata": {},
   "outputs": [
    {
     "name": "stderr",
     "output_type": "stream",
     "text": [
      "c:\\users\\knutankv\\git-repos\\wawi\\wawi\\io.py:335: SyntaxWarning: invalid escape sequence '\\s'\n",
      "  string = ('.+W A V E  P E R I O D.+=\\s+(?P<period>.+):.+\\n.+'\n",
      "c:\\users\\knutankv\\git-repos\\wawi\\wawi\\io.py:336: SyntaxWarning: invalid escape sequence '\\s'\n",
      "  'H E A D I N G   A N G L E.+=\\s+(?P<theta>.+):(?:.*\\n){5,10}'\n",
      "c:\\users\\knutankv\\git-repos\\wawi\\wawi\\io.py:338: SyntaxWarning: invalid escape sequence '\\s'\n",
      "  '.+EXCITING FORCES AND MOMENTS FROM THE HASKIN RELATIONS(?:.*\\n){4,6}\\s+'\n",
      "c:\\users\\knutankv\\git-repos\\wawi\\wawi\\io.py:340: SyntaxWarning: invalid escape sequence '\\s'\n",
      "  '-F1-\\s+(?P<F1_real>[-?.E\\d+]+)\\s+(?P<F1_imag>[-?.E\\d+]+)\\s.+\\n\\s+'\n",
      "c:\\users\\knutankv\\git-repos\\wawi\\wawi\\io.py:341: SyntaxWarning: invalid escape sequence '\\s'\n",
      "  '-F2-\\s+(?P<F2_real>[-?.E\\d+]+)\\s+(?P<F2_imag>[-?.E\\d+]+)\\s.+\\n\\s+'\n",
      "c:\\users\\knutankv\\git-repos\\wawi\\wawi\\io.py:342: SyntaxWarning: invalid escape sequence '\\s'\n",
      "  '-F3-\\s+(?P<F3_real>[-?.E\\d+]+)\\s+(?P<F3_imag>[-?.E\\d+]+)\\s.+\\n\\s+'\n",
      "c:\\users\\knutankv\\git-repos\\wawi\\wawi\\io.py:343: SyntaxWarning: invalid escape sequence '\\s'\n",
      "  '-F4-\\s+(?P<F4_real>[-?.E\\d+]+)\\s+(?P<F4_imag>[-?.E\\d+]+)\\s.+\\n\\s+'\n",
      "c:\\users\\knutankv\\git-repos\\wawi\\wawi\\io.py:344: SyntaxWarning: invalid escape sequence '\\s'\n",
      "  '-F5-\\s+(?P<F5_real>[-?.E\\d+]+)\\s+(?P<F5_imag>[-?.E\\d+]+)\\s.+\\n\\s+'\n",
      "c:\\users\\knutankv\\git-repos\\wawi\\wawi\\io.py:345: SyntaxWarning: invalid escape sequence '\\s'\n",
      "  '-F6-\\s+(?P<F6_real>[-?.E\\d+]+)\\s+(?P<F6_imag>[-?.E\\d+]+)\\s.+\\n')\n",
      "c:\\users\\knutankv\\git-repos\\wawi\\wawi\\io.py:348: SyntaxWarning: invalid escape sequence '\\s'\n",
      "  nondim_string = ('\\s+NON-DIMENSIONALIZING FACTORS:\\n(?:.*\\n)+'\n",
      "c:\\users\\knutankv\\git-repos\\wawi\\wawi\\io.py:349: SyntaxWarning: invalid escape sequence '\\s'\n",
      "  '\\s+RO\\s+=\\s+(?P<rho>[-?.E\\d+]+)\\n'\n",
      "c:\\users\\knutankv\\git-repos\\wawi\\wawi\\io.py:350: SyntaxWarning: invalid escape sequence '\\s'\n",
      "  '\\s+G\\s+=\\s+(?P<g>[-?.E\\d+]+)\\n'\n",
      "c:\\users\\knutankv\\git-repos\\wawi\\wawi\\io.py:351: SyntaxWarning: invalid escape sequence '\\s'\n",
      "  '\\s+VOL\\s+=\\s+(?P<vol>[-?.E\\d+]+)\\n'\n",
      "c:\\users\\knutankv\\git-repos\\wawi\\wawi\\io.py:352: SyntaxWarning: invalid escape sequence '\\s'\n",
      "  '\\s+L\\s+=\\s+(?P<l>[-?.E\\d+]+)\\n'\n",
      "c:\\users\\knutankv\\git-repos\\wawi\\wawi\\io.py:353: SyntaxWarning: invalid escape sequence '\\s'\n",
      "  '\\s+WA\\s+=\\s+(?P<wa>[-?.E\\d+]+)')\n",
      "c:\\users\\knutankv\\git-repos\\wawi\\wawi\\wind.py:9: SyntaxWarning: invalid escape sequence '\\ '\n",
      "  conv_text='''\n"
     ]
    },
    {
     "data": {
      "image/png": "[encoded data removed]",
      "text/plain": [
       "<Figure size 640x480 with 1 Axes>"
      ]
     },
     "metadata": {},
     "output_type": "display_data"
    }
   ],
   "source": [
    "import wawi\n",
    "from wawi.io import import_folder\n",
    "\n",
    "model = import_folder('./model/', sort_nodes_by_x=True)"
   ]
  },
  {
   "cell_type": "markdown",
   "id": "95e186f2-7910-42c7-93d1-610868b88e3e",
   "metadata": {},
   "source": [
    "This model contains a curved floating bridge with columns. No sections in the `element.json` file matches the section definitions in the `drag_elements.json` file, so no drag elements are used (the file is still provided to indicate how it can be defined)."
   ]
  },
  {
   "cell_type": "code",
   "execution_count": 3,
   "id": "188cfd4b-6384-441b-8cbd-4a209a287de0",
   "metadata": {},
   "outputs": [
    {
     "data": {
      "application/vnd.jupyter.widget-view+json": {
       "model_id": "4d864e738776422e861bd74849ed2c96",
       "version_major": 2,
       "version_minor": 0
      },
      "text/plain": [
       "Widget(value='<iframe src=\"http://localhost:55103/index.html?ui=P_0x20ce9615b20_0&reconnect=auto\" class=\"pyvis…"
      ]
     },
     "metadata": {},
     "output_type": "display_data"
    },
    {
     "data": {
      "text/plain": [
       "<pyvista.plotting.plotter.Plotter at 0x20ce9615b20>"
      ]
     },
     "execution_count": 3,
     "metadata": {},
     "output_type": "execute_result"
    }
   ],
   "source": [
    "model.plot(tmat_on=['undeformed'])"
   ]
  },
  {
   "cell_type": "code",
   "execution_count": 19,
   "id": "19e64314-7f7c-4a30-bff3-e9fa99ec3e0e",
   "metadata": {},
   "outputs": [
    {
     "data": {
      "application/vnd.jupyter.widget-view+json": {
       "model_id": "a1c87d66c046493a9a481a3782116eae",
       "version_major": 2,
       "version_minor": 0
      },
      "text/plain": [
       "Widget(value='<iframe src=\"http://localhost:56527/index.html?ui=P_0x19523d5ca70_2&reconnect=auto\" class=\"pyvis…"
      ]
     },
     "metadata": {},
     "output_type": "display_data"
    },
    {
     "data": {
      "text/plain": [
       "<pyvista.plotting.plotter.Plotter at 0x19523d5ca70>"
      ]
     },
     "execution_count": 19,
     "metadata": {},
     "output_type": "execute_result"
    }
   ],
   "source": [
    "# Plot dry mode with index 1\n",
    "model.plot_mode(1, use_dry=True)"
   ]
  }
 ],
 "metadata": {
  "kernelspec": {
   "display_name": "Python 3 (ipykernel)",
   "language": "python",
   "name": "python3"
  },
  "language_info": {
   "codemirror_mode": {
    "name": "ipython",
    "version": 3
   },
   "file_extension": ".py",
   "mimetype": "text/x-python",
   "name": "python",
   "nbconvert_exporter": "python",
   "pygments_lexer": "ipython3",
   "version": "3.12.4"
  }
 },
 "nbformat": 4,
 "nbformat_minor": 5
}
