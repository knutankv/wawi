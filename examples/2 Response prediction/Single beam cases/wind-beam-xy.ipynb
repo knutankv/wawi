{
 "cells": [
  {
   "cell_type": "code",
   "execution_count": 1,
   "id": "fee49f2e",
   "metadata": {},
   "outputs": [],
   "source": [
    "from wawi.io import import_folder\n",
    "import numpy as np\n",
    "from wawi.model import Windstate\n",
    "import matplotlib.pyplot as plt"
   ]
  },
  {
   "cell_type": "code",
   "execution_count": null,
   "id": "929b04d9",
   "metadata": {},
   "outputs": [],
   "source": [
    "# Import model\n",
    "model = import_folder('./model')\n",
    "model.modal_dry.xi0 = .5e-2"
   ]
  },
  {
   "cell_type": "code",
   "execution_count": 3,
   "id": "c1363466",
   "metadata": {},
   "outputs": [],
   "source": [
    "# Define windstate and plot model\n",
    "V0 = 40.0\n",
    "model.aero.windstate = Windstate(V0, \n",
    "                                 45, \n",
    "                                 Iu=2.0/V0, \n",
    "                                 Iw=1.0/V0, \n",
    "                                 Au=30, Aw=3, \n",
    "                                 Cuy=10.0, Cwy=8.0,\n",
    "                                 Cuz=10.0, Cwz=8.0,\n",
    "                                 Lux=60, Lwx=60,\n",
    "                                 x_ref=[0,0,0], rho=1.25)\n",
    "\n",
    "model.n_modes = 50\n",
    "\n",
    "# model.plot()"
   ]
  },
  {
   "cell_type": "code",
   "execution_count": 5,
   "id": "ff499eaa",
   "metadata": {},
   "outputs": [],
   "source": [
    "# Run eigenvalue solution and plot resulting first mode\n",
    "model.run_eig()\n",
    "\n",
    "mode = 1\n",
    "model.plot_mode(mode, use_dry=False, title=f'Mode {mode+1}: {model.results.xi[mode]*100:.4f}%')"
   ]
  },
  {
   "cell_type": "code",
   "execution_count": 6,
   "id": "26b905ae",
   "metadata": {},
   "outputs": [],
   "source": [
    "# Run frequency-domain analysis\n",
    "omega = np.linspace(0.00001, 6, 1000)\n",
    "model.run_freqsim(omega,\n",
    "                  include_selfexcited=['aero'], \n",
    "                  include_action=['aero'],\n",
    "                  print_progress=False, merge_aero_sections=True)\n"
   ]
  },
  {
   "cell_type": "code",
   "execution_count": null,
   "id": "3141b140",
   "metadata": {},
   "outputs": [],
   "source": [
    "# Output physical CPSD\n",
    "plot_dofs = np.array([1,2,3])\n",
    "node_ix = 50\n",
    "global_dof_ix = node_ix*6+plot_dofs\n",
    "\n",
    "S = model.get_result_psd(key='full', \n",
    "                         index=global_dof_ix,\n",
    "                         convert_to='local')\n",
    "\n",
    "fig,ax = plt.subplots(nrows=S.shape[0], ncols=S.shape[1], figsize=(15,10), sharex=True)\n",
    "for i in range(S.shape[0]):\n",
    "    for j in range(S.shape[1]):\n",
    "        ax[i,j].plot(model.results.omega, S[i,j,:].real, color='blue')\n",
    "        ax[i,j].plot(model.results.omega, S[i,j,:].imag, color='red')\n",
    "    \n",
    "    ax[-1,i].set_xlabel('$\\omega$ [rad/s]')"
   ]
  }
 ],
 "metadata": {
  "kernelspec": {
   "display_name": "Python 3 (ipykernel)",
   "language": "python",
   "name": "python3"
  },
  "language_info": {
   "codemirror_mode": {
    "name": "ipython",
    "version": 3
   },
   "file_extension": ".py",
   "mimetype": "text/x-python",
   "name": "python",
   "nbconvert_exporter": "python",
   "pygments_lexer": "ipython3",
   "version": "3.12.4"
  }
 },
 "nbformat": 4,
 "nbformat_minor": 5
}
