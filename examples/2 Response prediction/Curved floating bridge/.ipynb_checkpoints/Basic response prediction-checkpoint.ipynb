{
 "cells": [
  {
   "cell_type": "markdown",
   "id": "20d6c8f6",
   "metadata": {},
   "source": [
    "# Basic response prediction example\n",
    "In this example, the curved floating bridge created in the model creation examples is exposed to wind and wave excitation."
   ]
  },
  {
   "cell_type": "code",
   "execution_count": 17,
   "id": "e06905c4",
   "metadata": {},
   "outputs": [],
   "source": [
    "import matplotlib.pyplot as plt\n",
    "import numpy as np\n",
    "from wawi.model import Model, Windstate, Seastate\n",
    "from wawi.modal import maxreal"
   ]
  },
  {
   "cell_type": "markdown",
   "id": "6736f158-735b-4240-a51d-1a5458b4b26f",
   "metadata": {},
   "source": [
    "# Import of WAWI-model\n",
    "First, the model of the simple curved floating bridge (defined in the model generation examples) is imported. Thereafter, the number of dry modes is defined together with the frequency axes of the FRF (`omega`) of the combined system and the aerodynamics (`omega_aero`)."
   ]
  },
  {
   "cell_type": "code",
   "execution_count": 33,
   "id": "b5fc952a",
   "metadata": {},
   "outputs": [],
   "source": [
    "# Import model\n",
    "model = Model.from_wwi('./input/model_curved.wwi')\n",
    "model.n_modes = 50      # define number of dry modes\n",
    "\n",
    "# Define omega for FRF of system and aerodynamics\n",
    "omega = np.arange(0.001, 2, 0.0005)\n",
    "omega_aero = np.arange(0.001, 2, 0.05)"
   ]
  },
  {
   "cell_type": "markdown",
   "id": "0a9173bd-2145-43de-9348-265f63f7fa5a",
   "metadata": {},
   "source": [
    "## Defining `Windstate`\n",
    "The wind state is defined either directly from initiation of the `Windstate` object or by importing a json file. The resulting `windstate` object is thereafter assigned to the model using the `assign_windstate` method."
   ]
  },
  {
   "cell_type": "code",
   "execution_count": null,
   "id": "2937dc50-badf-4135-b49d-661135274269",
   "metadata": {},
   "outputs": [],
   "source": [
    "# Define Windstate either from direct initiation of object\n",
    "U0 = 20.0\n",
    "direction = 90.0\n",
    "windstate = Windstate(U0, direction, Iu=0.136, Iw=0.072, Au=6.8, Aw=9.4, Cuy=10.0, Cwy=6.5, Lux=115, Lwx=9.58)\n",
    "# or from json\n",
    "windstate = Windstate.from_json('./input/windstate_example.json')\n",
    "\n",
    "# Assign windstate to model\n",
    "model.assign_windstate(windstate)"
   ]
  },
  {
   "cell_type": "markdown",
   "id": "585c7b85-8055-4fc2-9248-58678aa1135b",
   "metadata": {},
   "source": [
    "## Defining `Seastate`\n",
    "The sea state is defined either directly from initiation of the `Seastate` object or by importing a json file. The resulting `seastate` object is thereafter assigned to the model using the `assign_seastate` method."
   ]
  },
  {
   "cell_type": "code",
   "execution_count": 23,
   "id": "4365efaa-b88b-425d-aa40-66c74ee5fe85",
   "metadata": {},
   "outputs": [],
   "source": [
    "# Define Seastate  (JONSWAP 1d wave spectrum and cos2s distribution) either from direct initiation of object\n",
    "Hs = 2.1\n",
    "Tp = 8.3\n",
    "gamma = 8\n",
    "s = 12\n",
    "theta0 = 90.0\n",
    "seastate = Seastate(Tp, Hs, gamma, theta0, s)\n",
    "\n",
    "# or from json\n",
    "seastate = Seastate.from_json('./input/seastate_example.json')\n",
    "\n",
    "# Apply seastate to model\n",
    "model.assign_seastate(seastate)"
   ]
  },
  {
   "cell_type": "markdown",
   "id": "25c3ae17-94fc-461a-9da1-354924658ed7",
   "metadata": {},
   "source": [
    "## Plotting model and relevant states\n",
    "Thereafter, the model and the assigned environmental states are plotted. This relies on the plotting environment used in the BEEF Python package (more details of relevant keywords can be found there)."
   ]
  },
  {
   "cell_type": "code",
   "execution_count": 11,
   "id": "405cbd43-41c1-4f90-8c0e-422f851d5434",
   "metadata": {},
   "outputs": [
    {
     "ename": "NameError",
     "evalue": "name 'model' is not defined",
     "output_type": "error",
     "traceback": [
      "\u001b[1;31m---------------------------------------------------------------------------\u001b[0m",
      "\u001b[1;31mNameError\u001b[0m                                 Traceback (most recent call last)",
      "Cell \u001b[1;32mIn[11], line 2\u001b[0m\n\u001b[0;32m      1\u001b[0m \u001b[38;5;66;03m# Plot model\u001b[39;00m\n\u001b[1;32m----> 2\u001b[0m model\u001b[38;5;241m.\u001b[39mplot(tmat_on\u001b[38;5;241m=\u001b[39m[\u001b[38;5;124m'\u001b[39m\u001b[38;5;124mundeformed\u001b[39m\u001b[38;5;124m'\u001b[39m], node_labels\u001b[38;5;241m=\u001b[39m\u001b[38;5;28;01mTrue\u001b[39;00m)\n",
      "\u001b[1;31mNameError\u001b[0m: name 'model' is not defined"
     ]
    }
   ],
   "source": [
    "# Plot model\n",
    "model.plot(tmat_on=['undeformed'], node_labels=True)"
   ]
  },
  {
   "cell_type": "markdown",
   "id": "1479c8ef",
   "metadata": {},
   "source": [
    "## Modal analysis\n",
    "The defined model is used to iteratively compute the in-wind and wet modes of the bridge. The preparation of the aerodynamic stiffness and damping matrices is conducted in a separate initial step, to avoid an unnecessarily dense omega axis; this generates an interpolant that is later accessed when needing aerodynamic matrix contributions from arbitrary frequencies."
   ]
  },
  {
   "cell_type": "code",
   "execution_count": 27,
   "id": "e8a218ce",
   "metadata": {},
   "outputs": [
    {
     "name": "stdout",
     "output_type": "stream",
     "text": [
      "[ >>>>>>>>>>>>>>>>>>>> ] 101% finished with iterative modal analysis. \n"
     ]
    }
   ],
   "source": [
    "model.aero.prepare_aero_matrices(omega=omega_aero, aero_sections=['girder']) # optional prep step\n",
    "model.run_eig(include=['hydro', 'aero'])"
   ]
  },
  {
   "cell_type": "markdown",
   "id": "02e86795-16b6-4e3e-a707-66ef6d2dfb89",
   "metadata": {},
   "source": [
    "Plotting a mode can be done as shown below. Also, results of the modal analysis is contained in the `results` object found in the `model` object."
   ]
  },
  {
   "cell_type": "code",
   "execution_count": 29,
   "id": "f802dd53",
   "metadata": {},
   "outputs": [
    {
     "data": {
      "application/vnd.jupyter.widget-view+json": {
       "model_id": "22d77ded459b49639a717d303e0f1c2b",
       "version_major": 2,
       "version_minor": 0
      },
      "text/plain": [
       "Widget(value='<iframe src=\"http://localhost:51408/index.html?ui=P_0x25b13a89550_1&reconnect=auto\" class=\"pyvis…"
      ]
     },
     "metadata": {},
     "output_type": "display_data"
    },
    {
     "name": "stdout",
     "output_type": "stream",
     "text": [
      "T1 = 43.4 s\n",
      "xi_1 = 1.0%\n"
     ]
    }
   ],
   "source": [
    "mode_ix = 0\n",
    "model.plot_mode(mode_ix, use_dry=False, plot_wave_direction=False)\n",
    "print(f'T1 = {model.results.Tn[mode_ix]:.1f} s')\n",
    "print(f'xi_1 = {model.results.xi[mode_ix]*100:.1f}%')"
   ]
  },
  {
   "cell_type": "markdown",
   "id": "12df3ad8",
   "metadata": {},
   "source": [
    "## Response prediction\n",
    "For response prediction, the modal analysis step conducted in the previous cells is not required (note that one benefit of still doing it is that WAWI  automatically adds the frequencies corresponding to the damped natural frequencies to the FRF omega axis for a more robust analysis). The preparation step for aerodynamic matrices is repeated below for completeness (not needed if cells above are run)."
   ]
  },
  {
   "cell_type": "code",
   "execution_count": 35,
   "id": "639a2313",
   "metadata": {},
   "outputs": [
    {
     "ename": "KeyboardInterrupt",
     "evalue": "",
     "output_type": "error",
     "traceback": [
      "\u001b[1;31m---------------------------------------------------------------------------\u001b[0m",
      "\u001b[1;31mKeyboardInterrupt\u001b[0m                         Traceback (most recent call last)",
      "Cell \u001b[1;32mIn[35], line 7\u001b[0m\n\u001b[0;32m      4\u001b[0m \u001b[38;5;66;03m# precompute_windaction precomputes the wind action (in separate step to avoid too dense frequency axis)\u001b[39;00m\n\u001b[0;32m      5\u001b[0m model\u001b[38;5;241m.\u001b[39mprecompute_windaction(omega_aero, print_progress\u001b[38;5;241m=\u001b[39m\u001b[38;5;28;01mFalse\u001b[39;00m, aero_sections\u001b[38;5;241m=\u001b[39m[\u001b[38;5;124m'\u001b[39m\u001b[38;5;124mgirder\u001b[39m\u001b[38;5;124m'\u001b[39m]) \n\u001b[1;32m----> 7\u001b[0m model\u001b[38;5;241m.\u001b[39mrun_freqsim(omega)\n",
      "File \u001b[1;32mc:\\users\\knutankv\\git-repos\\wawi\\wawi\\model\\_model.py:925\u001b[0m, in \u001b[0;36mModel.run_freqsim\u001b[1;34m(self, omega, omega_aero, omega_hydro, print_progress, interpolation_kind, max_rel_error, drag_iterations, tol, include_action, include_selfexcited, ensure_at_peaks, theta_interpolation, reset_Cquad_lin, merge_aero_sections, aero_sections)\u001b[0m\n\u001b[0;32m    921\u001b[0m     Srr_m \u001b[38;5;241m=\u001b[39m freqsim(Sqq_m, Hnum) \u001b[38;5;66;03m# Power-spectral density method\u001b[39;00m\n\u001b[0;32m    923\u001b[0m     \u001b[38;5;28;01mreturn\u001b[39;00m Srr_m\n\u001b[1;32m--> 925\u001b[0m Srr_m \u001b[38;5;241m=\u001b[39m runsim()\n\u001b[0;32m    927\u001b[0m \u001b[38;5;66;03m# Linearized drag damping           \u001b[39;00m\n\u001b[0;32m    928\u001b[0m \u001b[38;5;28;01mif\u001b[39;00m drag_iterations\u001b[38;5;241m>\u001b[39m\u001b[38;5;241m0\u001b[39m:\n",
      "File \u001b[1;32mc:\\users\\knutankv\\git-repos\\wawi\\wawi\\model\\_model.py:920\u001b[0m, in \u001b[0;36mModel.run_freqsim.<locals>.runsim\u001b[1;34m()\u001b[0m\n\u001b[0;32m    919\u001b[0m \u001b[38;5;28;01mdef\u001b[39;00m \u001b[38;5;21mrunsim\u001b[39m():\n\u001b[1;32m--> 920\u001b[0m     Hnum \u001b[38;5;241m=\u001b[39m eval_3d_fun(\u001b[38;5;28mself\u001b[39m\u001b[38;5;241m.\u001b[39mget_frf_fun(include\u001b[38;5;241m=\u001b[39minclude_dict), omega)  \u001b[38;5;66;03m# System\u001b[39;00m\n\u001b[0;32m    921\u001b[0m     Srr_m \u001b[38;5;241m=\u001b[39m freqsim(Sqq_m, Hnum) \u001b[38;5;66;03m# Power-spectral density method\u001b[39;00m\n\u001b[0;32m    923\u001b[0m     \u001b[38;5;28;01mreturn\u001b[39;00m Srr_m\n",
      "File \u001b[1;32mc:\\users\\knutankv\\git-repos\\wawi\\wawi\\general.py:107\u001b[0m, in \u001b[0;36meval_3d_fun\u001b[1;34m(fun, z)\u001b[0m\n\u001b[0;32m    106\u001b[0m \u001b[38;5;28;01mdef\u001b[39;00m \u001b[38;5;21meval_3d_fun\u001b[39m(fun, z):\n\u001b[1;32m--> 107\u001b[0m     \u001b[38;5;28;01mreturn\u001b[39;00m np\u001b[38;5;241m.\u001b[39mstack([fun(z_k) \u001b[38;5;28;01mfor\u001b[39;00m z_k \u001b[38;5;129;01min\u001b[39;00m z], axis\u001b[38;5;241m=\u001b[39m\u001b[38;5;241m2\u001b[39m)\n",
      "File \u001b[1;32mc:\\users\\knutankv\\git-repos\\wawi\\wawi\\model\\_model.py:1348\u001b[0m, in \u001b[0;36mModel.get_frf_fun.<locals>.frf\u001b[1;34m(omega_k)\u001b[0m\n\u001b[0;32m   1347\u001b[0m \u001b[38;5;28;01mdef\u001b[39;00m \u001b[38;5;21mfrf\u001b[39m(omega_k):\n\u001b[1;32m-> 1348\u001b[0m     \u001b[38;5;28;01mreturn\u001b[39;00m np\u001b[38;5;241m.\u001b[39mlinalg\u001b[38;5;241m.\u001b[39minv(\u001b[38;5;241m-\u001b[39momega_k\u001b[38;5;241m*\u001b[39m\u001b[38;5;241m*\u001b[39m\u001b[38;5;241m2\u001b[39m\u001b[38;5;241m*\u001b[39mMfun(omega_k) \u001b[38;5;241m+\u001b[39m \u001b[38;5;241m1\u001b[39mj\u001b[38;5;241m*\u001b[39momega_k\u001b[38;5;241m*\u001b[39mCfun(omega_k) \u001b[38;5;241m+\u001b[39m Kfun(omega_k))\n",
      "File \u001b[1;32mc:\\users\\knutankv\\git-repos\\wawi\\wawi\\general.py:103\u001b[0m, in \u001b[0;36mfun_const_sum.<locals>.fun\u001b[1;34m(x)\u001b[0m\n\u001b[0;32m    102\u001b[0m \u001b[38;5;28;01mdef\u001b[39;00m \u001b[38;5;21mfun\u001b[39m(x):\n\u001b[1;32m--> 103\u001b[0m     \u001b[38;5;28;01mreturn\u001b[39;00m function(x) \u001b[38;5;241m+\u001b[39m constant\n",
      "File \u001b[1;32mc:\\users\\knutankv\\git-repos\\wawi\\wawi\\model\\_model.py:1267\u001b[0m, in \u001b[0;36mModel.get_added_C\u001b[1;34m(self, omega_k)\u001b[0m\n\u001b[0;32m   1265\u001b[0m     \u001b[38;5;28;01mfor\u001b[39;00m ix, p \u001b[38;5;129;01min\u001b[39;00m \u001b[38;5;28menumerate\u001b[39m(\u001b[38;5;28mself\u001b[39m\u001b[38;5;241m.\u001b[39mhydro\u001b[38;5;241m.\u001b[39mpontoons):        \n\u001b[0;32m   1266\u001b[0m         mat[ix\u001b[38;5;241m*\u001b[39m\u001b[38;5;241m6\u001b[39m:ix\u001b[38;5;241m*\u001b[39m\u001b[38;5;241m6\u001b[39m\u001b[38;5;241m+\u001b[39m\u001b[38;5;241m6\u001b[39m, ix\u001b[38;5;241m*\u001b[39m\u001b[38;5;241m6\u001b[39m:ix\u001b[38;5;241m*\u001b[39m\u001b[38;5;241m6\u001b[39m\u001b[38;5;241m+\u001b[39m\u001b[38;5;241m6\u001b[39m] \u001b[38;5;241m=\u001b[39m p\u001b[38;5;241m.\u001b[39mget_C(omega_k, local\u001b[38;5;241m=\u001b[39m\u001b[38;5;28mself\u001b[39m\u001b[38;5;241m.\u001b[39mlocal)\n\u001b[1;32m-> 1267\u001b[0m     C_hydro \u001b[38;5;241m=\u001b[39m \u001b[38;5;28mself\u001b[39m\u001b[38;5;241m.\u001b[39mhydro\u001b[38;5;241m.\u001b[39mphi\u001b[38;5;241m.\u001b[39mT \u001b[38;5;241m@\u001b[39m mat \u001b[38;5;241m@\u001b[39m \u001b[38;5;28mself\u001b[39m\u001b[38;5;241m.\u001b[39mhydro\u001b[38;5;241m.\u001b[39mphi\n\u001b[0;32m   1268\u001b[0m \u001b[38;5;28;01melse\u001b[39;00m:\n\u001b[0;32m   1269\u001b[0m     C_hydro \u001b[38;5;241m=\u001b[39m \u001b[38;5;241m0.0\u001b[39m\n",
      "File \u001b[1;32mc:\\users\\knutankv\\git-repos\\wawi\\wawi\\model\\_hydro.py:36\u001b[0m, in \u001b[0;36mHydro.phi\u001b[1;34m(self)\u001b[0m\n\u001b[0;32m     33\u001b[0m     \u001b[38;5;28mself\u001b[39m\u001b[38;5;241m.\u001b[39m_phases_lead \u001b[38;5;241m=\u001b[39m val\n\u001b[0;32m     34\u001b[0m     \u001b[38;5;28mself\u001b[39m\u001b[38;5;241m.\u001b[39massign_to_pontoon_types(phases_lead\u001b[38;5;241m=\u001b[39mval)\n\u001b[1;32m---> 36\u001b[0m \u001b[38;5;129m@property\u001b[39m\n\u001b[0;32m     37\u001b[0m \u001b[38;5;28;01mdef\u001b[39;00m \u001b[38;5;21mphi\u001b[39m(\u001b[38;5;28mself\u001b[39m):\n\u001b[0;32m     38\u001b[0m     \u001b[38;5;28;01mif\u001b[39;00m \u001b[38;5;28mself\u001b[39m\u001b[38;5;241m.\u001b[39m_phi \u001b[38;5;129;01mis\u001b[39;00m \u001b[38;5;129;01mnot\u001b[39;00m \u001b[38;5;28;01mNone\u001b[39;00m:\n\u001b[0;32m     39\u001b[0m         \u001b[38;5;28;01mreturn\u001b[39;00m \u001b[38;5;28mself\u001b[39m\u001b[38;5;241m.\u001b[39m_phi\n",
      "\u001b[1;31mKeyboardInterrupt\u001b[0m: "
     ]
    }
   ],
   "source": [
    "# prepare_aero_matrices for predefined aero_sections (if not conducted, this is automatically run when using run_freqsim)\n",
    "model.aero.prepare_aero_matrices(omega=omega_aero, aero_sections=['girder']) # optional prep step\n",
    "model.run_freqsim(omega)"
   ]
  },
  {
   "cell_type": "markdown",
   "id": "0ff0da4b-0985-4210-9ad1-42ccb45e219b",
   "metadata": {},
   "source": [
    "### Calculate statistical response values\n",
    "The way WAWI operates is to first compute the modal response (given by the dry initially-defined modes) based on the specified wave and wind excitation. Thereafter, the results can be transformed into physical quantites based on whatever modal transformation matrix definition (mode shapes) defined in the `modal_dry` object (defined as an attribute of the `model` object).\n",
    "\n",
    "Below, we compute the response (girder forces, both expected max. and standard deviation) for all response quantities present in the modal transformation matrix (i.e., the modes). This is given by the key 'girder_forces' (it grabs the relevant dry mode shapes from the `modal_dry` object). The result is an 1d array with the response correponding to the order defined in the modal transformation matrix for the chosen key. Thereafter, the result is plotted."
   ]
  },
  {
   "cell_type": "code",
   "execution_count": 5,
   "id": "7d279e59-f19a-49fc-ac3f-aaad0db9899e",
   "metadata": {},
   "outputs": [
    {
     "ename": "NameError",
     "evalue": "name 'model' is not defined",
     "output_type": "error",
     "traceback": [
      "\u001b[1;31m---------------------------------------------------------------------------\u001b[0m",
      "\u001b[1;31mNameError\u001b[0m                                 Traceback (most recent call last)",
      "Cell \u001b[1;32mIn[5], line 1\u001b[0m\n\u001b[1;32m----> 1\u001b[0m resp_expmax \u001b[38;5;241m=\u001b[39m model\u001b[38;5;241m.\u001b[39mget_result_expmax(\u001b[38;5;241m3600\u001b[39m, key\u001b[38;5;241m=\u001b[39m\u001b[38;5;124m'\u001b[39m\u001b[38;5;124mgirder_forces\u001b[39m\u001b[38;5;124m'\u001b[39m) \u001b[38;5;66;03m# expected maximum\u001b[39;00m\n\u001b[0;32m      2\u001b[0m resp_std \u001b[38;5;241m=\u001b[39m model\u001b[38;5;241m.\u001b[39mget_result_std(key\u001b[38;5;241m=\u001b[39m\u001b[38;5;124m'\u001b[39m\u001b[38;5;124mgirder_forces\u001b[39m\u001b[38;5;124m'\u001b[39m)\n",
      "\u001b[1;31mNameError\u001b[0m: name 'model' is not defined"
     ]
    }
   ],
   "source": [
    "resp_expmax = model.get_result_expmax(3600, key='girder_forces') # expected maximum\n",
    "resp_std = model.get_result_std(key='girder_forces')          # standard deviation"
   ]
  },
  {
   "cell_type": "code",
   "execution_count": 14,
   "id": "04eef4ea",
   "metadata": {},
   "outputs": [
    {
     "ename": "NameError",
     "evalue": "name 'model' is not defined",
     "output_type": "error",
     "traceback": [
      "\u001b[1;31m---------------------------------------------------------------------------\u001b[0m",
      "\u001b[1;31mNameError\u001b[0m                                 Traceback (most recent call last)",
      "Cell \u001b[1;32mIn[14], line 4\u001b[0m\n\u001b[0;32m      2\u001b[0m legend_ax \u001b[38;5;241m=\u001b[39m []\n\u001b[0;32m      3\u001b[0m comps \u001b[38;5;241m=\u001b[39m {\u001b[38;5;124m'\u001b[39m\u001b[38;5;124m$M_z$ [MNm]\u001b[39m\u001b[38;5;124m'\u001b[39m:\u001b[38;5;241m5\u001b[39m}\n\u001b[1;32m----> 4\u001b[0m arclength_girder_force \u001b[38;5;241m=\u001b[39m model\u001b[38;5;241m.\u001b[39mmodal_dry\u001b[38;5;241m.\u001b[39mphi_x[\u001b[38;5;124m'\u001b[39m\u001b[38;5;124mgirder_forces\u001b[39m\u001b[38;5;124m'\u001b[39m][:, \u001b[38;5;241m0\u001b[39m]\n\u001b[0;32m      6\u001b[0m fig,ax \u001b[38;5;241m=\u001b[39m plt\u001b[38;5;241m.\u001b[39msubplots(nrows\u001b[38;5;241m=\u001b[39m\u001b[38;5;28mlen\u001b[39m(comps), sharex\u001b[38;5;241m=\u001b[39m\u001b[38;5;28;01mTrue\u001b[39;00m, figsize\u001b[38;5;241m=\u001b[39m[\u001b[38;5;241m12\u001b[39m,\u001b[38;5;241m7\u001b[39m])\n\u001b[0;32m      7\u001b[0m \u001b[38;5;28;01mif\u001b[39;00m np\u001b[38;5;241m.\u001b[39mndim(ax)\u001b[38;5;241m==\u001b[39m\u001b[38;5;241m0\u001b[39m:\n",
      "\u001b[1;31mNameError\u001b[0m: name 'model' is not defined"
     ]
    }
   ],
   "source": [
    "# Plot expected maximum\n",
    "legend_ax = []\n",
    "comps = {'$M_z$ [MNm]':5}\n",
    "arclength_girder_force = model.modal_dry.phi_x['girder_forces'][:, 0]\n",
    "\n",
    "fig,ax = plt.subplots(nrows=len(comps), sharex=True, figsize=[12,7])\n",
    "if np.ndim(ax)==0:\n",
    "    ax = [ax]\n",
    "\n",
    "for ix, comp in enumerate(comps):\n",
    "    comp_ix = comps[comp]\n",
    "    ax[ix].set_ylabel(comp)\n",
    "    ax[ix].plot(arclength_girder_force, resp_wawi[comp_ix::6]/1e6, color='black', linestyle='--', alpha=0.5, label='Multimodal')\n",
    "    ax[ix].set_ylim(bottom=0)\n",
    "    \n",
    "ax[-1].set_xlabel('x [m]')\n",
    "# ax[-1].set_xlim(left=0)\n",
    "ax[0].legend(frameon=False, loc='upper center', ncol=2)"
   ]
  },
  {
   "cell_type": "markdown",
   "id": "ff8149af-dc75-4d8c-8bcb-539892a9671c",
   "metadata": {},
   "source": [
    "### Response cross-spectral density matrices\n",
    "Furtheremore, the cross-spectral density itself can be grabbed from the results.\n",
    "\n",
    "The modal cross-spectral density (CPSD) is available in `model.results.S`, defined to correspond to the frequencies given in `model.results.omega`. To simplify the extraction of cross-spectral density matrices for physical quantites, a function similar to that to extract standard deviations (and expected maximum) shown above is available in WAWI, i.e., `model.get_result_psd`. This extracts a CPSD matrix based on the input key (mode shape key) and relevant indices (related to the DOFs in the defined mode shapes), as show below:"
   ]
  },
  {
   "cell_type": "markdown",
   "id": "1200cadb-54b5-40fd-aa20-92313ecc4b50",
   "metadata": {},
   "source": [
    "plot_dofs = np.array([1,2,3])\n",
    "node_ix = 50\n",
    "global_dof_ix = node_ix*6+plot_dofs\n",
    "\n",
    "S = model.get_result_psd(key='full', \n",
    "                         index=global_dof_ix)\n",
    "\n",
    "fig,ax = plt.subplots(nrows=S.shape[0], ncols=S.shape[1], figsize=(15,10), sharex=True)\n",
    "for i in range(S.shape[0]):\n",
    "    for j in range(S.shape[1]):\n",
    "        ax[i,j].plot(model.results.omega, S[i,j,:].real, color='blue')\n",
    "        ax[i,j].plot(model.results.omega, S[i,j,:].imag, color='red')\n",
    "    \n",
    "    ax[-1,i].set_xlabel('$\\omega$ [rad/s]')"
   ]
  }
 ],
 "metadata": {
  "kernelspec": {
   "display_name": "Python 3 (ipykernel)",
   "language": "python",
   "name": "python3"
  },
  "language_info": {
   "codemirror_mode": {
    "name": "ipython",
    "version": 3
   },
   "file_extension": ".py",
   "mimetype": "text/x-python",
   "name": "python",
   "nbconvert_exporter": "python",
   "pygments_lexer": "ipython3",
   "version": "3.12.4"
  }
 },
 "nbformat": 4,
 "nbformat_minor": 5
}
