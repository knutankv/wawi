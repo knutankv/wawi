{
 "cells": [
  {
   "cell_type": "markdown",
   "id": "20d6c8f6",
   "metadata": {},
   "source": [
    "# Basic response prediction example\n",
    "In this example, the curved floating bridge created in the model creation examples is exposed to wind and wave excitation."
   ]
  },
  {
   "cell_type": "code",
   "execution_count": 2,
   "id": "e06905c4",
   "metadata": {},
   "outputs": [
    {
     "data": {
      "image/png": "[encoded data removed]",
      "text/plain": [
       "<Figure size 640x480 with 1 Axes>"
      ]
     },
     "metadata": {},
     "output_type": "display_data"
    }
   ],
   "source": [
    "import matplotlib.pyplot as plt\n",
    "import numpy as np\n",
    "from wawi.model import Model, Windstate, Seastate\n",
    "from wawi.modal import maxreal"
   ]
  },
  {
   "cell_type": "code",
   "execution_count": 3,
   "id": "b5fc952a",
   "metadata": {},
   "outputs": [],
   "source": [
    "# Import model\n",
    "model = Model.from_wwi('./input/model_curved.wwi')\n",
    "model.n_modes = 50      # define number of dry modes\n",
    "\n",
    "# Define omega for FRF of system and aerodynamics\n",
    "omega = np.arange(0.001, 2, 0.0005)\n",
    "omega_aero = np.arange(0.001, 2, 0.02)"
   ]
  },
  {
   "cell_type": "code",
   "execution_count": 4,
   "id": "2937dc50-badf-4135-b49d-661135274269",
   "metadata": {},
   "outputs": [],
   "source": [
    "# Define Windstate either from direct initiation of object\n",
    "U0 = 20.0\n",
    "direction = 90.0\n",
    "windstate = Windstate(U0, direction, Iu=0.136, Iw=0.072, Au=6.8, Aw=9.4, Cuy=10.0, Cwy=6.5, Lux=115, Lwx=9.58)\n",
    "# or from json\n",
    "windstate = Windstate.from_json('./input/windstate_example.json')\n",
    "\n",
    "# Apply windstate to model\n",
    "model.assign_windstate(windstate)"
   ]
  },
  {
   "cell_type": "code",
   "execution_count": 5,
   "id": "4365efaa-b88b-425d-aa40-66c74ee5fe85",
   "metadata": {},
   "outputs": [],
   "source": [
    "# Define Seastate  (JONSWAP 1d wave spectrum and cos2s distribution) either from direct initiation of object\n",
    "Hs=2.1\n",
    "Tp=8.3\n",
    "gamma=8\n",
    "s=12\n",
    "theta0=90.0\n",
    "seastate = Seastate(Tp, Hs, gamma, theta0, s)\n",
    "\n",
    "# or from json\n",
    "seastate = Seastate.from_json('./input/seastate_example.json')\n",
    "\n",
    "# Apply seastate to model\n",
    "model.assign_seastate(seastate)"
   ]
  },
  {
   "cell_type": "code",
   "execution_count": 6,
   "id": "405cbd43-41c1-4f90-8c0e-422f851d5434",
   "metadata": {},
   "outputs": [
    {
     "data": {
      "application/vnd.jupyter.widget-view+json": {
       "model_id": "1377cb5fd6b3404d910dd44a37434a02",
       "version_major": 2,
       "version_minor": 0
      },
      "text/plain": [
       "Widget(value='<iframe src=\"http://localhost:61444/index.html?ui=P_0x1ba757fcc50_0&reconnect=auto\" class=\"pyvis…"
      ]
     },
     "metadata": {},
     "output_type": "display_data"
    },
    {
     "data": {
      "text/plain": [
       "<pyvista.plotting.plotter.Plotter at 0x1ba757fcc50>"
      ]
     },
     "execution_count": 6,
     "metadata": {},
     "output_type": "execute_result"
    }
   ],
   "source": [
    "# Plot model\n",
    "model.plot(tmat_on=['undeformed'], node_labels=True)"
   ]
  },
  {
   "cell_type": "markdown",
   "id": "1479c8ef",
   "metadata": {},
   "source": [
    "## Modal analysis"
   ]
  },
  {
   "cell_type": "code",
   "execution_count": 8,
   "id": "e8a218ce",
   "metadata": {},
   "outputs": [
    {
     "name": "stdout",
     "output_type": "stream",
     "text": [
      "[ >>>>>>>>>>>>>>>>>>>> ] 101% finished with iterative modal analysis. \n"
     ]
    }
   ],
   "source": [
    "model.aero.prepare_aero_matrices(omega=omega_aero, aero_sections=['girder']) # optional prep step\n",
    "model.run_eig(include=['hydro', 'aero'])"
   ]
  },
  {
   "cell_type": "code",
   "execution_count": 9,
   "id": "f802dd53",
   "metadata": {},
   "outputs": [
    {
     "data": {
      "application/vnd.jupyter.widget-view+json": {
       "model_id": "eb3c3736181d4ca7bb6c1cf0b2da4801",
       "version_major": 2,
       "version_minor": 0
      },
      "text/plain": [
       "Widget(value='<iframe src=\"http://localhost:61444/index.html?ui=P_0x1ba791bd610_1&reconnect=auto\" class=\"pyvis…"
      ]
     },
     "metadata": {},
     "output_type": "display_data"
    },
    {
     "name": "stdout",
     "output_type": "stream",
     "text": [
      "T1 = 43.4 s\n",
      "xi_1 = 1.0%\n"
     ]
    }
   ],
   "source": [
    "mode_ix = 0\n",
    "model.plot_mode(mode_ix, use_dry=False, plot_wave_direction=False)\n",
    "print(f'T1 = {model.results.Tn[mode_ix]:.1f} s')\n",
    "print(f'xi_1 = {model.results.xi[mode_ix]*100:.1f}%')"
   ]
  },
  {
   "cell_type": "markdown",
   "id": "12df3ad8",
   "metadata": {},
   "source": [
    "## Response prediction"
   ]
  },
  {
   "cell_type": "code",
   "execution_count": null,
   "id": "639a2313",
   "metadata": {},
   "outputs": [
    {
     "name": "stdout",
     "output_type": "stream",
     "text": [
      "[ ===                  ]  16% ESTABLISHING WAVE EXCITATION     "
     ]
    }
   ],
   "source": [
    "model.precompute_windaction(omega_aero, print_progress=False, aero_sections=['girder'], merge_sections=False)\n",
    "model.run_freqsim(omega)\n",
    "resp_wawi = model.get_result_expmax(3600, key='girder_forces')"
   ]
  },
  {
   "cell_type": "markdown",
   "id": "f929277b",
   "metadata": {},
   "source": [
    "## Plot expected maximum"
   ]
  },
  {
   "cell_type": "code",
   "execution_count": null,
   "id": "04eef4ea",
   "metadata": {},
   "outputs": [],
   "source": [
    "legend_ax = []\n",
    "comps = {'$M_z$ [MNm]':5}\n",
    "arclength_girder_force = model.modal_dry.phi_x['girder_forces'][:, 0]\n",
    "\n",
    "fig,ax = plt.subplots(nrows=len(comps), sharex=True, figsize=[12,7])\n",
    "if np.ndim(ax)==0:\n",
    "    ax = [ax]\n",
    "\n",
    "for ix, comp in enumerate(comps):\n",
    "    comp_ix = comps[comp]\n",
    "    ax[ix].set_ylabel(comp)\n",
    "    ax[ix].plot(arclength_girder_force,resp_wawi[comp_ix::6]/1e6, color='black', linestyle='--', alpha=0.5, label='Multimodal')\n",
    "    ax[ix].set_ylim(bottom=0)\n",
    "    \n",
    "ax[-1].set_xlabel('x [m]')\n",
    "# ax[-1].set_xlim(left=0)\n",
    "ax[0].legend(frameon=False, loc='upper center', ncol=2)"
   ]
  }
 ],
 "metadata": {
  "kernelspec": {
   "display_name": "Python 3 (ipykernel)",
   "language": "python",
   "name": "python3"
  },
  "language_info": {
   "codemirror_mode": {
    "name": "ipython",
    "version": 3
   },
   "file_extension": ".py",
   "mimetype": "text/x-python",
   "name": "python",
   "nbconvert_exporter": "python",
   "pygments_lexer": "ipython3",
   "version": "3.12.4"
  }
 },
 "nbformat": 4,
 "nbformat_minor": 5
}
